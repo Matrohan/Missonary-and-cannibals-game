{
 "cells": [
  {
   "cell_type": "code",
   "execution_count": 53,
   "metadata": {},
   "outputs": [],
   "source": [
    "from IPython.display import clear_output"
   ]
  },
  {
   "cell_type": "code",
   "execution_count": 54,
   "metadata": {},
   "outputs": [],
   "source": [
    "clear_output()"
   ]
  },
  {
   "cell_type": "code",
   "execution_count": 34,
   "metadata": {},
   "outputs": [],
   "source": [
    "boat_side = \"Right side\"\n",
    "missionaries_on_right = 3\n",
    "cannibals_on_right = 3\n",
    "missionaries_on_left = 0\n",
    "cannibals_on_left = 0"
   ]
  },
  {
   "cell_type": "code",
   "execution_count": 35,
   "metadata": {},
   "outputs": [
    {
     "name": "stdout",
     "output_type": "stream",
     "text": [
      "M = 0 C = 0 |-----B| M = 3 C = 3\n"
     ]
    }
   ],
   "source": [
    "print('M =',missionaries_on_left, 'C =',cannibals_on_left, '|-----B|', 'M =',missionaries_on_right, 'C =',cannibals_on_right)"
   ]
  },
  {
   "cell_type": "code",
   "execution_count": 36,
   "metadata": {},
   "outputs": [],
   "source": [
    "missionaries = int(input(\"Enter the number of missionaries: \"))\n",
    "cannibals = int(input(\"Enter the number of cannibals: \"))"
   ]
  },
  {
   "cell_type": "code",
   "execution_count": 37,
   "metadata": {},
   "outputs": [],
   "source": [
    "if (missionaries + cannibals) != 1 and (missionaries + cannibals) != 2:\n",
    "    print(\"Invalid da baka yaro\")"
   ]
  },
  {
   "cell_type": "code",
   "execution_count": 38,
   "metadata": {},
   "outputs": [
    {
     "name": "stdout",
     "output_type": "stream",
     "text": [
      "Boat on the left side\n"
     ]
    }
   ],
   "source": [
    "if boat_side == \"Right\":\n",
    "    print(\"Boat on the right side\")\n",
    "else:\n",
    "    print(\"Boat on the left side\")    "
   ]
  },
  {
   "cell_type": "code",
   "execution_count": 39,
   "metadata": {},
   "outputs": [],
   "source": [
    "if missionaries_on_right < missionaries or cannibals_on_right < cannibals:\n",
    "    print(\"Arey yaar very wrong !!!\")"
   ]
  },
  {
   "cell_type": "code",
   "execution_count": 40,
   "metadata": {},
   "outputs": [],
   "source": [
    "missionaries_on_right = missionaries_on_right - missionaries\n",
    "cannibals_on_right = cannibals_on_right - cannibals"
   ]
  },
  {
   "cell_type": "code",
   "execution_count": 41,
   "metadata": {},
   "outputs": [],
   "source": [
    "missionaries_on_left += missionaries\n",
    "cannibals_on_left += cannibals"
   ]
  },
  {
   "cell_type": "code",
   "execution_count": 42,
   "metadata": {},
   "outputs": [
    {
     "name": "stdout",
     "output_type": "stream",
     "text": [
      "M = 1 C = 1 |B-----| M = 2 C = 2\n"
     ]
    }
   ],
   "source": [
    "print(\"M =\",missionaries_on_left, \"C =\", cannibals_on_left, '|B-----|', \"M =\", missionaries_on_right, \"C =\", cannibals_on_right)"
   ]
  },
  {
   "cell_type": "code",
   "execution_count": 43,
   "metadata": {},
   "outputs": [],
   "source": [
    "if missionaries_on_left < missionaries or cannibals_on_left < cannibals:\n",
    "    print(\"Arey yaar again wrong !!!!\")"
   ]
  },
  {
   "cell_type": "code",
   "execution_count": 44,
   "metadata": {},
   "outputs": [],
   "source": [
    "missionaries_on_left -= missionaries\n",
    "cannibals_on_left -= cannibals"
   ]
  },
  {
   "cell_type": "code",
   "execution_count": 45,
   "metadata": {},
   "outputs": [],
   "source": [
    "missionaries_on_right += missionaries\n",
    "cannibals_on_right += cannibals"
   ]
  },
  {
   "cell_type": "code",
   "execution_count": 46,
   "metadata": {},
   "outputs": [
    {
     "name": "stdout",
     "output_type": "stream",
     "text": [
      "M = 0 C = 0 |B-----| M = 3 C = 3\n"
     ]
    }
   ],
   "source": [
    "print(\"M =\",missionaries_on_left, \"C =\", cannibals_on_left, '|B-----|', \"M =\", missionaries_on_right, \"C =\", cannibals_on_right)"
   ]
  },
  {
   "cell_type": "code",
   "execution_count": 48,
   "metadata": {},
   "outputs": [],
   "source": [
    "if boat_side == \"Right\":\n",
    "    if (missionaries + cannibals) != 1 and (missionaries + cannibals) != 2:\n",
    "        print(\"Invalid da baka yaro\")\n",
    "\n",
    "    missionaries_on_right = missionaries_on_right - missionaries\n",
    "    cannibals_on_right = cannibals_on_right - cannibals\n",
    "\n",
    "    missionaries_on_left += missionaries\n",
    "    cannibals_on_left += cannibals\n",
    "    print(\"M =\",missionaries_on_left, \"C =\", cannibals_on_left, '|B-----|', \"M =\", missionaries_on_right, \"C =\", cannibals_on_right)\n",
    "\n",
    "elif boat_side == \"Left\":\n",
    "    if(missionaries + cannibals) != 1 and (missionaries + cannibals) != 2:\n",
    "        print(\"Invalid da idiotic guy!\")\n",
    "\n",
    "    missionaries_on_left -= missionaries\n",
    "    cannibals_on_left -= cannibals\n",
    "\n",
    "    missionaries_on_right += missionaries\n",
    "    cannibals_on_right += cannibals\n",
    "    print(\"M =\",missionaries_on_left, \"C =\", cannibals_on_left, '|B-----|', \"M =\", missionaries_on_right, \"C =\", cannibals_on_right)\n",
    "\n"
   ]
  },
  {
   "cell_type": "code",
   "execution_count": 50,
   "metadata": {},
   "outputs": [],
   "source": [
    "if(missionaries_on_right < cannibals_on_right and missionaries_on_right > 0) or (missionaries_on_left < cannibals_on_left and missionaries_on_left > 0):\n",
    "    print(\"BYE BYE LOSER!!\")"
   ]
  },
  {
   "cell_type": "code",
   "execution_count": 52,
   "metadata": {},
   "outputs": [],
   "source": [
    "if(missionaries_on_left ==3  and cannibals_on_left == 3) or (missionaries_on_right == 0 and cannibals_on_right == 0):\n",
    "    print(\"Wonderful da kanna you won\")"
   ]
  },
  {
   "cell_type": "markdown",
   "metadata": {},
   "source": [
    "Merging all the steps into a single block of code"
   ]
  },
  {
   "cell_type": "code",
   "execution_count": null,
   "metadata": {},
   "outputs": [],
   "source": [
    "clear_output()\n",
    "\n",
    "boat_side = \"Right side\"\n",
    "missionaries_on_right = 3\n",
    "cannibals_on_right = 3\n",
    "missionaries_on_left = 0\n",
    "cannibals_on_left = 0\n",
    "\n",
    "print('M =',missionaries_on_left, 'C =',cannibals_on_left, '|-----B|', 'M =',missionaries_on_right, 'C =',cannibals_on_right)\n",
    "\n",
    "\n",
    "while True:\n",
    "    missionaries = int(input(\"Enter the number of missionaries or press Q to quit:\"))\n",
    "    if missionaries == \"Q\":\n",
    "        print(\"Chi go da quitter!\")\n",
    "        break\n",
    "    cannibals = int(input(\"Enter the number of cannibals:\"))\n",
    "\n",
    "    if (missionaries + cannibals) != 1 and (missionaries + cannibals) != 2:\n",
    "        print(\"Invalid da baka yaro\")\n",
    "        continue\n",
    "    if boat_side == \"Right\":\n",
    "    if (missionaries + cannibals) != 1 and (missionaries + cannibals) != 2:\n",
    "        print(\"Invalid da baka yaro\")\n",
    "\n",
    "    missionaries_on_right = missionaries_on_right - missionaries\n",
    "    cannibals_on_right = cannibals_on_right - cannibals\n",
    "\n",
    "    missionaries_on_left += missionaries\n",
    "    cannibals_on_left += cannibals\n",
    "    print(\"M =\",missionaries_on_left, \"C =\", cannibals_on_left, '|B-----|', \"M =\", missionaries_on_right, \"C =\", cannibals_on_right)\n",
    "\n",
    "    elif boat_side == \"Left\":\n",
    "        if(missionaries + cannibals) != 1 and (missionaries + cannibals) != 2:\n",
    "        print(\"Invalid da idiotic guy!\")\n",
    "\n",
    "    missionaries_on_left -= missionaries\n",
    "    cannibals_on_left -= cannibals\n",
    "\n",
    "    missionaries_on_right += missionaries\n",
    "    cannibals_on_right += cannibals\n",
    "    print(\"M =\",missionaries_on_left, \"C =\", cannibals_on_left, '|B-----|', \"M =\", missionaries_on_right, \"C =\", cannibals_on_right)\n",
    "\n",
    "\n",
    "\n",
    "\n",
    "\n",
    "\n",
    "    \n",
    "\n",
    "\n",
    "        \n",
    "    \n"
   ]
  }
 ],
 "metadata": {
  "kernelspec": {
   "display_name": "Python 3",
   "language": "python",
   "name": "python3"
  },
  "language_info": {
   "codemirror_mode": {
    "name": "ipython",
    "version": 3
   },
   "file_extension": ".py",
   "mimetype": "text/x-python",
   "name": "python",
   "nbconvert_exporter": "python",
   "pygments_lexer": "ipython3",
   "version": "3.12.4"
  }
 },
 "nbformat": 4,
 "nbformat_minor": 2
}
